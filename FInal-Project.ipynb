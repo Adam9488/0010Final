{
 "cells": [
  {
   "cell_type": "markdown",
   "metadata": {},
   "source": [
    "# Introduction\n",
    "\n",
    "David and I chose to explore data involving the restaurants of Pittsburgh across different neighborhoods. First, we considered housing data and historical data. The housing data was quite complicated and overwhelming. The historical data was sparce and lacked information. We settled on restaurant data because the information has good readability, and has potential for great submetrics. Additionally, we find the topic interesting and may be able to apply it to our real life, as we can find new food to taste."
   ]
  },
  {
   "cell_type": "markdown",
   "metadata": {},
   "source": [
    "# The Metric\n",
    "\n",
    "Our metric is quality of restaurant experience. This is a broad metric that can be applied to any neighborhood in Pittsburgh. We can measure a variety of features such as pricing, availability, food quality, reviews, health violations, and potentially more. The dataset I will observe is ______. David will investigate _______."
   ]
  },
  {
   "cell_type": "markdown",
   "metadata": {},
   "source": [
    "# The Best Neighborhood"
   ]
  },
  {
   "cell_type": "markdown",
   "metadata": {},
   "source": [
    "## Super Markets\n",
    "\n",
    "The first dataset I will consider is \"Allegheny County Supermarkets & Convenience Stores\" from the WPRDC. I will sort the data to only show the supermarkets, and then rank the neighborhoods by how many supermarkets they have.\n"
   ]
  },
  {
   "cell_type": "markdown",
   "metadata": {},
   "source": [
    "### Code"
   ]
  },
  {
   "cell_type": "code",
   "execution_count": null,
   "metadata": {},
   "outputs": [],
   "source": [
    "### Setup\n",
    "import pandas as pd\n",
    "sm = pd.read_csv(\"supermarkets.csv\")\n",
    "\n",
    "### Filtering Supermarkets\n",
    "query_mask=sm[\"Category\"]==\"Supermarket\"\n",
    "sm=sm[query_mask]\n",
    "\n",
    "### Mutating the best zipcodes to their corresponding neighborhood name\n",
    "sm['Zip']=sm['Zip'].replace([15237],[\"Ross Township\"])\n",
    "sm['Zip']=sm['Zip'].replace([15146],[\"Monroeville\"])\n",
    "sm['Zip']=sm['Zip'].replace([15122],[\"West Mifflin\"])\n",
    "sm['Zip']=sm['Zip'].replace([15131],[\"McKeesport\"])\n",
    "sm['Zip']=sm['Zip'].replace([15132],[\"McKeesport\"])\n",
    "sm['Zip']=sm['Zip'].replace([15205],[\"Crafton\"])\n",
    "sm['Zip']=sm['Zip'].replace([15227],[\"Brentwood\"])\n",
    "sm['Zip']=sm['Zip'].replace([15235],[\"Penn Hills\"])\n",
    "sm['Zip']=sm['Zip'].replace([15210],[\"St. Clair\"])\n",
    "sm['Zip']=sm['Zip'].replace([15236],[\"Baldwin\"])\n",
    "sm['Zip']=sm['Zip'].replace([15222],[\"Troy Hill\"])\n",
    "sm['Zip']=sm['Zip'].replace([15206],[\"Larimer\"])\n",
    "sm['Zip']=sm['Zip'].replace([15147],[\"Verona\"])\n",
    "sm['Zip']=sm['Zip'].replace([15217],[\"Squirrel Hill South\"])\n",
    "sm['Zip']=sm['Zip'].replace([15090],[\"Wexford\"])\n",
    "counts=counts.replace([15090],[\"Wexford\"])\n",
    "\n",
    "### Reorganzing \"Best\" data and plotting\n",
    "counts = sm[\"Zip\"].value_counts()\n",
    "best=sm[\"Zip\"].value_counts()>3\n",
    "counts[best].plot.bar(title='Supermarkets by Neighborhood (Min 4)')"
   ]
  },
  {
   "cell_type": "markdown",
   "metadata": {},
   "source": [
    "### Analysis\n",
    "\n",
    "Based on the submetric \"Number of Supermarkets\" to determine a best neighborhood, Ross Township is the best neighborhood. Other top neighborhoods include Monroeville, West Miffline, and McKeesport"
   ]
  },
  {
   "cell_type": "markdown",
   "metadata": {},
   "source": [
    "## Seat Count in Food Facilities\n",
    "\n",
    "The next dataset I will consider is \"Geocoded Food Facilities\" from WPRDC. The submetric I will consider is Oldest Restaurants. I will wrangle the data to get an average seat count of the food facilities labelled as a restaurant, in each neighborhood, and rank them average year of start date."
   ]
  },
  {
   "cell_type": "markdown",
   "metadata": {},
   "source": [
    "### Code"
   ]
  },
  {
   "cell_type": "code",
   "execution_count": 168,
   "metadata": {},
   "outputs": [
    {
     "data": {
      "text/plain": [
       "<matplotlib.axes._subplots.AxesSubplot at 0x7f1cc16dab20>"
      ]
     },
     "execution_count": 168,
     "metadata": {},
     "output_type": "execute_result"
    },
    {
     "data": {
      "image/png": "[encoded data removed]",
      "text/plain": [
       "<Figure size 432x288 with 1 Axes>"
      ]
     },
     "metadata": {
      "needs_background": "light"
     },
     "output_type": "display_data"
    }
   ],
   "source": [
    "### Setup\n",
    "import pandas as pd\n",
    "ff = pd.read_csv(\"facilities.csv\")\n",
    "ff\n",
    "### Filtering Allegheny County and NaN values\n",
    "ff['zip']=ff['zip'].astype(str)\n",
    "query_mask = ff[\"zip\"].str.match(\"15\")\n",
    "ff=ff[query_mask]\n",
    "### Filtering NaN values\n",
    "ff=ff.dropna(subset=['bus_st_date','zip'])\n",
    "### Filtering for restaurants\n",
    "query_mask=ff[\"description\"].str.match(\"Restaurant\")\n",
    "ff=ff[query_mask]\n",
    "### Filtering out closed restaurants\n",
    "ff = ff[ff['bus_cl_date'].isnull()]\n",
    "### Converting dates to years\n",
    "ff['year'] = ff['bus_st_date'].str.split(\"-\").str[0]\n",
    "ff['year']=ff['year'].astype(int)\n",
    "\n",
    "### Getting averages by zipcode and sorting\n",
    "averages=ff.groupby('zip', as_index=False)['year'].mean()\n",
    "averages=averages.sort_values(by=['year'])\n",
    "averages.head(10)\n",
    "\n",
    "### Mutating best zipcodes to corresponding neighborhood names\n",
    "averages['zip']=averages['zip'].replace([\"15049.0\"],[\"Harwick\"])\n",
    "averages['zip']=averages['zip'].replace([\"15075.0\"],[\"Rural Ridge\"])\n",
    "averages['zip']=averages['zip'].replace([\"15145.0\"],[\"Turtle Creek\"])\n",
    "averages['zip']=averages['zip'].replace([\"15065.0\"],[\"Natrona Heights\"])\n",
    "averages['zip']=averages['zip'].replace([\"15142.0\"],[\"Presto\"])\n",
    "averages['zip']=averages['zip'].replace([\"15030.0\"],[\"Creighton\"])\n",
    "averages['zip']=averages['zip'].replace([\"15020.0\"],[\"Forward\"])\n",
    "averages['zip']=averages['zip'].replace([\"15140.0\"],[\"Pitcairn\"])\n",
    "### Not considering 15068, 15083 as not in Allegheny County\n",
    "averages=averages.drop(averages.index[2])\n",
    "averages=averages.drop(averages.index[3])\n",
    "\n",
    "### Reorganizing and Plotting data\n",
    "best=averages.year<1994.5\n",
    "averages[best].plot.bar(x='zip',y='year',ylim=[1980,2000],title='Average Restaurant Start Date (Oldest 8 Neighborhoods)')"
   ]
  },
  {
   "cell_type": "markdown",
   "metadata": {},
   "source": [
    "### Analysis\n",
    "We can clearly see the neighborhoods with the average oldest restaurant age in Allegheny County. Harwick easily contains the oldest restaurants and becomes the \"best neighborhood\" by this metric. Unfortunately, none of the \"best neighborhoods\" of this metric match the best neighborhoods from my previous metric, supermarket counts. Hopefully David's research may align with some of mine and there will be one or more \"best neighborhoods\" that exist in multiple metrics."
   ]
  },
  {
   "cell_type": "markdown",
   "metadata": {},
   "source": [
    "# Conclusion\n",
    "\n"
   ]
  },
  {
   "cell_type": "code",
   "execution_count": null,
   "metadata": {},
   "outputs": [],
   "source": []
  }
 ],
 "metadata": {
  "kernelspec": {
   "display_name": "Python 3",
   "language": "python",
   "name": "python3"
  },
  "language_info": {
   "codemirror_mode": {
    "name": "ipython",
    "version": 3
   },
   "file_extension": ".py",
   "mimetype": "text/x-python",
   "name": "python",
   "nbconvert_exporter": "python",
   "pygments_lexer": "ipython3",
   "version": "3.8.3"
  }
 },
 "nbformat": 4,
 "nbformat_minor": 4
}
