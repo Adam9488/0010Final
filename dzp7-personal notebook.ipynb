{
 "cells": [
  {
   "cell_type": "code",
   "execution_count": 1,
   "metadata": {},
   "outputs": [],
   "source": [
    "import pandas as pd\n",
    "import numpy as np\n",
    "%matplotlib inline\n",
    "import matplotlib.pyplot as plt"
   ]
  },
  {
   "cell_type": "code",
   "execution_count": 10,
   "metadata": {},
   "outputs": [],
   "source": [
    "gd = pd.read_csv(\"growpghgardens201712.csv\", parse_dates=True, sep = ',')\n",
    "#gardens.head(10)"
   ]
  },
  {
   "cell_type": "code",
   "execution_count": 3,
   "metadata": {},
   "outputs": [],
   "source": [
    "inspections = pd.read_csv(\"restaurantinspections.csv\", parse_dates=True, sep = ',')\n",
    "#inspections.head(10)"
   ]
  },
  {
   "cell_type": "code",
   "execution_count": 12,
   "metadata": {},
   "outputs": [
    {
     "data": {
      "text/plain": [
       "<matplotlib.axes._subplots.AxesSubplot at 0x7fc34f290400>"
      ]
     },
     "execution_count": 12,
     "metadata": {},
     "output_type": "execute_result"
    },
    {
     "data": {
      "image/png": "[encoded data removed]",
      "text/plain": [
       "<Figure size 432x288 with 1 Axes>"
      ]
     },
     "metadata": {
      "needs_background": "light"
     },
     "output_type": "display_data"
    }
   ],
   "source": [
    "gardzipdict = dict()\n",
    "zipcode = \"\"\n",
    "#for index, row in gardens.iterrows():\n",
    "#    zipcode = row[\"zip_code\"]\n",
    "#    if zipcode not in gardzipdict:\n",
    "#        gardzipdict[zipcode] = 1\n",
    "#    else: \n",
    "#        gardzipdict[zipcode] += 1;\n",
    "#print(gardzipdict)\n",
    "\n",
    "\n",
    "gd['zip_code']=gd['zip_code'].replace([15224],[\"Bloomfield\"])\n",
    "gd['zip_code']=gd['zip_code'].replace([15206],[\"Larimer\"])\n",
    "gd['zip_code']=gd['zip_code'].replace([15221],[\"Wilkinsburg\"])\n",
    "gd['zip_code']=gd['zip_code'].replace([15201],[\"Central Lawrenceville\"])\n",
    "gd['zip_code']=gd['zip_code'].replace([15208],[\"North Point Breeze\"])\n",
    "gd['zip_code']=gd['zip_code'].replace([15213],[\"North Oakland\"])\n",
    "gd['zip_code']=gd['zip_code'].replace([15219],[\"Central Business District\"])\n",
    "gd['zip_code']=gd['zip_code'].replace([15210],[\"St. Clair\"])\n",
    "\n",
    "#gardenzips = pd.DataFrame([gardzipdict]).T\n",
    "#gardenzips = gardenzips[gardenzips > 3].dropna()\n",
    "\n",
    "counts = gardens[\"zip_code\"].value_counts()\n",
    "best = gardens[\"zip_code\"].value_counts() > 2\n",
    "counts[best].plot(kind='bar')\n",
    "\n",
    "#print(gardens)"
   ]
  },
  {
   "cell_type": "code",
   "execution_count": 5,
   "metadata": {},
   "outputs": [],
   "source": [
    "inspcitydict = dict()\n",
    "inspzipdict = dict()\n",
    "city = \"\"\n",
    "for index, row in inspections.iterrows():\n",
    "    city = row[\"city\"]\n",
    "    zipcode = row[\"zip\"]\n",
    "    if city not in inspcitydict:\n",
    "        inspcitydict[city] = 1\n",
    "    else: \n",
    "        inspcitydict[city] += 1;\n",
    "    \n",
    "    if zipcode not in inspzipdict:\n",
    "        inspzipdict[zipcode] = 1\n",
    "    else: \n",
    "        inspzipdict[zipcode] += 1;\n",
    "#print(inspcitydict)\n",
    "#print(inspzipdict)"
   ]
  },
  {
   "cell_type": "code",
   "execution_count": 6,
   "metadata": {},
   "outputs": [
    {
     "data": {
      "text/plain": [
       "<matplotlib.axes._subplots.AxesSubplot at 0x7f30a3c22400>"
      ]
     },
     "execution_count": 6,
     "metadata": {},
     "output_type": "execute_result"
    },
    {
     "data": {
      "image/png": "[encoded data removed]",
      "text/plain": [
       "<Figure size 432x288 with 1 Axes>"
      ]
     },
     "metadata": {
      "needs_background": "light"
     },
     "output_type": "display_data"
    }
   ],
   "source": [
    "gardenzips.sort_values(by=0).plot(kind='bar')"
   ]
  },
  {
   "cell_type": "code",
   "execution_count": null,
   "metadata": {},
   "outputs": [],
   "source": []
  }
 ],
 "metadata": {
  "kernelspec": {
   "display_name": "Python 3",
   "language": "python",
   "name": "python3"
  },
  "language_info": {
   "codemirror_mode": {
    "name": "ipython",
    "version": 3
   },
   "file_extension": ".py",
   "mimetype": "text/x-python",
   "name": "python",
   "nbconvert_exporter": "python",
   "pygments_lexer": "ipython3",
   "version": "3.8.3"
  }
 },
 "nbformat": 4,
 "nbformat_minor": 4
}
